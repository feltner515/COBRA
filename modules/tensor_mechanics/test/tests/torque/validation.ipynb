{
 "cells": [
  {
   "cell_type": "code",
   "execution_count": null,
   "id": "appropriate-review",
   "metadata": {},
   "outputs": [],
   "source": [
    "from IPython.display import Markdown as md"
   ]
  },
  {
   "cell_type": "markdown",
   "id": "bulgarian-stuff",
   "metadata": {},
   "source": [
    "# Hollow cylinder torsion validation\n",
    "\n",
    "## Polar moment of inertia\n",
    "\n",
    "For a hollow cylinder with inner diameter $d$ and outer diameter $D$ the polar moment of inertia $I_z$ id\n",
    "\n",
    "$$\n",
    "I_z = \\frac{\\pi\\left(D^4-d^4\\right)}{32}\n",
    "$$\n",
    "\n",
    "### Analytic solution"
   ]
  },
  {
   "cell_type": "code",
   "execution_count": null,
   "id": "thorough-conversion",
   "metadata": {},
   "outputs": [],
   "source": [
    "import math\n",
    "\n",
    "d = 2*0.95\n",
    "D = 2\n",
    "\n",
    "Iz = math.pi*(D**4-d**4)/32\n",
    "\n",
    "md(f\"$$I_z = {Iz}$$\")"
   ]
  },
  {
   "cell_type": "markdown",
   "id": "secondary-newspaper",
   "metadata": {},
   "source": [
    "### Moose Postprocessor\n",
    "Evaluated on a hollow cylinder mesh with 1 element thickness"
   ]
  },
  {
   "cell_type": "code",
   "execution_count": null,
   "id": "commercial-background",
   "metadata": {},
   "outputs": [],
   "source": [
    "md(\"$$I_z = %f$$\" % 2.910780e-01)"
   ]
  },
  {
   "cell_type": "markdown",
   "id": "bizarre-threshold",
   "metadata": {},
   "source": [
    "## Angular deflection\n",
    "The angular deflection $\\alpha$ of a hollow cylinder can be computed from its length $L$ the applied twisting moment $T$, the polar moment of inertia $I_Z$, and its shear modulus $G$ as\n",
    "\n",
    "$$\n",
    "\\alpha = \\frac{LT}{I_zG}\n",
    "$$\n",
    "\n",
    "### Analytic solution\n"
   ]
  },
  {
   "cell_type": "code",
   "execution_count": null,
   "id": "bridal-campus",
   "metadata": {},
   "outputs": [],
   "source": [
    "# Length of cylinder\n",
    "L = 2\n",
    "\n",
    "# Shear modulus\n",
    "G = 100\n",
    "\n",
    "# torque (twisting moment)\n",
    "T = 1\n",
    "\n",
    "# angular deflection\n",
    "alpha = L*T/(Iz*G)\n",
    "\n",
    "md(f\"$$\\\\alpha = {alpha}$$\")"
   ]
  },
  {
   "cell_type": "markdown",
   "id": "authorized-negotiation",
   "metadata": {},
   "source": [
    "### Moose Postprocessor\n",
    "Evaluated on a hollow cylinder mesh with 1 element thickness"
   ]
  },
  {
   "cell_type": "code",
   "execution_count": null,
   "id": "dental-plate",
   "metadata": {},
   "outputs": [],
   "source": [
    "md(\"$$\\\\alpha = %f$$\" % 6.860228e-02)"
   ]
  },
  {
   "cell_type": "markdown",
   "id": "understood-devices",
   "metadata": {},
   "source": [
    "## Shear stress\n",
    "\n",
    "The shear stress $\\tau$ in a hollow cylider can be calculated as\n",
    "\n",
    "$$\n",
    "\\tau = \\frac{Tr}{I_z}\n",
    "$$\n",
    "\n",
    "### Analytic solution"
   ]
  },
  {
   "cell_type": "code",
   "execution_count": null,
   "id": "social-wealth",
   "metadata": {},
   "outputs": [],
   "source": [
    "## radius \n",
    "r = 0.975\n",
    "\n",
    "tau = T * r / Iz\n",
    "\n",
    "md(f\"$$\\\\tau = {tau}$$\")"
   ]
  },
  {
   "cell_type": "markdown",
   "id": "duplicate-guess",
   "metadata": {},
   "source": [
    "### Moose Postprocessor\n",
    "Evaluated on a hollow cylinder mesh with 1 element thickness"
   ]
  },
  {
   "cell_type": "code",
   "execution_count": null,
   "id": "intense-particular",
   "metadata": {},
   "outputs": [],
   "source": [
    "md(\"$$\\\\tau = %f$$\" % 3.349080e+00)"
   ]
  },
  {
   "cell_type": "code",
   "execution_count": null,
   "id": "hearing-socket",
   "metadata": {},
   "outputs": [],
   "source": []
  }
 ],
 "metadata": {
  "kernelspec": {
   "display_name": "Python 3",
   "language": "python",
   "name": "python3"
  },
  "language_info": {
   "codemirror_mode": {
    "name": "ipython",
    "version": 3
   },
   "file_extension": ".py",
   "mimetype": "text/x-python",
   "name": "python",
   "nbconvert_exporter": "python",
   "pygments_lexer": "ipython3",
   "version": "3.7.9"
  }
 },
 "nbformat": 4,
 "nbformat_minor": 5
}

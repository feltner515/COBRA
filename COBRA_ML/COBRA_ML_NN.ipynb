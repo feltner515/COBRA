{
 "cells": [
  {
   "cell_type": "code",
   "execution_count": 25,
   "metadata": {},
   "outputs": [],
   "source": [
    "import netCDF4\n",
    "import numpy as np\n",
    "import matplotlib.pyplot as plt\n",
    "import tensorflow as tf"
   ]
  },
  {
   "cell_type": "code",
   "execution_count": 26,
   "metadata": {},
   "outputs": [],
   "source": [
    "def convert (s):\n",
    "    new = \"\"\n",
    "    for x in s:\n",
    "        new += x\n",
    "    return new\n",
    "\n",
    "def get_variable(dataset):\n",
    "    nodal_names = []\n",
    "    for i in range(dataset.variables['name_nod_var'].shape[0]):\n",
    "        name = convert(str(str(str(nc.variables['name_nod_var'][i].data).split(\"'\")[1:len(nc.variables['name_nod_var'][i].data):2]).split(\"''\")[0]))\n",
    "        nodal_names.append(name[1:len(name)-2])\n",
    "    return nodal_names"
   ]
  },
  {
   "cell_type": "code",
   "execution_count": 27,
   "metadata": {},
   "outputs": [],
   "source": [
    "import string\n",
    "\n",
    "char_set = set(string.ascii_letters + string.digits + '_')\n"
   ]
  },
  {
   "cell_type": "code",
   "execution_count": 28,
   "metadata": {},
   "outputs": [],
   "source": [
    "nc = netCDF4.Dataset('exhmdkksts_5_out2.e')\n",
    "\n"
   ]
  },
  {
   "cell_type": "code",
   "execution_count": 29,
   "metadata": {},
   "outputs": [
    {
     "data": {
      "text/plain": [
       "[\"'a', 'c', 'c', 'e', 'l', '_', 'x'\",\n",
       " \"'a', 'c', 'c', 'e', 'l', '_', 'y'\",\n",
       " \"'a', 'c', 'c', 'e', 'l', '_', 'z'\",\n",
       " \"'b', 'o', 'x'\",\n",
       " \"'c', 'o', 'n', 't', 'a', 'c', 't', '_', 'p', 'r', 'e', 's', 's', 'u', 'r', 'e'\",\n",
       " \"'d', 'e', 'n', 's', 'i', 't', 'y'\",\n",
       " \"'d', 'i', 's', 'p', '_', 'x'\",\n",
       " \"'d', 'i', 's', 'p', '_', 'y'\",\n",
       " \"'d', 'i', 's', 'p', '_', 'z'\",\n",
       " \"'e', 'l', 'a', 's', 't', 'i', 'c', '_', 'e', 'n', 'e', 'r', 'g', 'y'\",\n",
       " \"'k', 'i', 'n', 'e', 't', 'i', 'c', '_', 'e', 'n', 'e', 'r', 'g', 'y'\",\n",
       " \"'n', 'o', 'd', 'a', 'l', '_', 'a', 'r', 'e', 'a'\",\n",
       " \"'p', 'e', 'n', 'e', 't', 'r', 'a', 't', 'i', 'o', 'n'\",\n",
       " \"'s', 'u', 'b', 's', '_', 'c', 'o', 'm', 'b', 'i', 'n', 'e', 'd', '_', 'i', 'n', 'e', 'l', 'a', 's', 't', 'i', 'c', '_', 's', 't', 'r', 'a', 'i', 'n', '_', '0'\",\n",
       " \"'s', 'u', 'b', 's', '_', 'c', 'o', 'm', 'b', 'i', 'n', 'e', 'd', '_', 'i', 'n', 'e', 'l', 'a', 's', 't', 'i', 'c', '_', 's', 't', 'r', 'a', 'i', 'n', '_', '0'\",\n",
       " \"'s', 'u', 'b', 's', '_', 'c', 'o', 'm', 'b', 'i', 'n', 'e', 'd', '_', 'i', 'n', 'e', 'l', 'a', 's', 't', 'i', 'c', '_', 's', 't', 'r', 'a', 'i', 'n', '_', '0'\",\n",
       " \"'s', 'u', 'b', 's', '_', 'c', 'o', 'm', 'b', 'i', 'n', 'e', 'd', '_', 'i', 'n', 'e', 'l', 'a', 's', 't', 'i', 'c', '_', 's', 't', 'r', 'a', 'i', 'n', '_', '1'\",\n",
       " \"'s', 'u', 'b', 's', '_', 'c', 'o', 'm', 'b', 'i', 'n', 'e', 'd', '_', 'i', 'n', 'e', 'l', 'a', 's', 't', 'i', 'c', '_', 's', 't', 'r', 'a', 'i', 'n', '_', '1'\",\n",
       " \"'s', 'u', 'b', 's', '_', 'c', 'o', 'm', 'b', 'i', 'n', 'e', 'd', '_', 'i', 'n', 'e', 'l', 'a', 's', 't', 'i', 'c', '_', 's', 't', 'r', 'a', 'i', 'n', '_', '1'\",\n",
       " \"'s', 'u', 'b', 's', '_', 'c', 'o', 'm', 'b', 'i', 'n', 'e', 'd', '_', 'i', 'n', 'e', 'l', 'a', 's', 't', 'i', 'c', '_', 's', 't', 'r', 'a', 'i', 'n', '_', '2'\",\n",
       " \"'s', 'u', 'b', 's', '_', 'c', 'o', 'm', 'b', 'i', 'n', 'e', 'd', '_', 'i', 'n', 'e', 'l', 'a', 's', 't', 'i', 'c', '_', 's', 't', 'r', 'a', 'i', 'n', '_', '2'\",\n",
       " \"'s', 'u', 'b', 's', '_', 'c', 'o', 'm', 'b', 'i', 'n', 'e', 'd', '_', 'i', 'n', 'e', 'l', 'a', 's', 't', 'i', 'c', '_', 's', 't', 'r', 'a', 'i', 'n', '_', '2'\",\n",
       " \"'s', 'u', 'b', 's', '_', 'd', 'i', 's', 'p', '_', '0', '0'\",\n",
       " \"'s', 'u', 'b', 's', '_', 'd', 'i', 's', 'p', '_', '1', '1'\",\n",
       " \"'s', 'u', 'b', 's', '_', 'd', 'i', 's', 'p', '_', '2', '2'\",\n",
       " \"'s', 'u', 'b', 's', '_', 'e', 'f', 'f', 'e', 'c', 't', 'i', 'v', 'e', '_', 'p', 'l', 'a', 's', 't', 'i', 'c', '_', 's', 't', 'r', 'a', 'i', 'n'\",\n",
       " \"'s', 'u', 'b', 's', '_', 'e', 'f', 'f', 'e', 'c', 't', 'i', 'v', 'e', '_', 's', 't', 'i', 'f', 'f', 'n', 'e', 's', 's'\",\n",
       " \"'s', 'u', 'b', 's', '_', 'e', 'l', 'a', 's', 't', 'i', 'c', '_', 's', 't', 'r', 'a', 'i', 'n', '_', '0', '0'\",\n",
       " \"'s', 'u', 'b', 's', '_', 'e', 'l', 'a', 's', 't', 'i', 'c', '_', 's', 't', 'r', 'a', 'i', 'n', '_', '0', '1'\",\n",
       " \"'s', 'u', 'b', 's', '_', 'e', 'l', 'a', 's', 't', 'i', 'c', '_', 's', 't', 'r', 'a', 'i', 'n', '_', '0', '2'\",\n",
       " \"'s', 'u', 'b', 's', '_', 'e', 'l', 'a', 's', 't', 'i', 'c', '_', 's', 't', 'r', 'a', 'i', 'n', '_', '1', '0'\",\n",
       " \"'s', 'u', 'b', 's', '_', 'e', 'l', 'a', 's', 't', 'i', 'c', '_', 's', 't', 'r', 'a', 'i', 'n', '_', '1', '1'\",\n",
       " \"'s', 'u', 'b', 's', '_', 'e', 'l', 'a', 's', 't', 'i', 'c', '_', 's', 't', 'r', 'a', 'i', 'n', '_', '1', '2'\",\n",
       " \"'s', 'u', 'b', 's', '_', 'e', 'l', 'a', 's', 't', 'i', 'c', '_', 's', 't', 'r', 'a', 'i', 'n', '_', '2', '0'\",\n",
       " \"'s', 'u', 'b', 's', '_', 'e', 'l', 'a', 's', 't', 'i', 'c', '_', 's', 't', 'r', 'a', 'i', 'n', '_', '2', '1'\",\n",
       " \"'s', 'u', 'b', 's', '_', 'e', 'l', 'a', 's', 't', 'i', 'c', '_', 's', 't', 'r', 'a', 'i', 'n', '_', '2', '2'\",\n",
       " \"'s', 'u', 'b', 's', '_', 'h', 'a', 'r', 'd', 'e', 'n', 'i', 'n', 'g', '_', 'v', 'a', 'r', 'i', 'a', 'b', 'l', 'e'\",\n",
       " \"'s', 'u', 'b', 's', '_', 'm', 'a', 't', 'e', 'r', 'i', 'a', 'l', '_', 't', 'i', 'm', 'e', 's', 't', 'e', 'p', '_', 'l', 'i', 'm', 'i', 't'\",\n",
       " \"'s', 'u', 'b', 's', '_', 'p', 'l', 'a', 's', 't', 'i', 'c', '_', 's', 't', 'r', 'a', 'i', 'n', '_', '0', '0'\",\n",
       " \"'s', 'u', 'b', 's', '_', 'p', 'l', 'a', 's', 't', 'i', 'c', '_', 's', 't', 'r', 'a', 'i', 'n', '_', '0', '1'\",\n",
       " \"'s', 'u', 'b', 's', '_', 'p', 'l', 'a', 's', 't', 'i', 'c', '_', 's', 't', 'r', 'a', 'i', 'n', '_', '0', '2'\",\n",
       " \"'s', 'u', 'b', 's', '_', 'p', 'l', 'a', 's', 't', 'i', 'c', '_', 's', 't', 'r', 'a', 'i', 'n', '_', '1', '0'\",\n",
       " \"'s', 'u', 'b', 's', '_', 'p', 'l', 'a', 's', 't', 'i', 'c', '_', 's', 't', 'r', 'a', 'i', 'n', '_', '1', '1'\",\n",
       " \"'s', 'u', 'b', 's', '_', 'p', 'l', 'a', 's', 't', 'i', 'c', '_', 's', 't', 'r', 'a', 'i', 'n', '_', '1', '2'\",\n",
       " \"'s', 'u', 'b', 's', '_', 'p', 'l', 'a', 's', 't', 'i', 'c', '_', 's', 't', 'r', 'a', 'i', 'n', '_', '2', '0'\",\n",
       " \"'s', 'u', 'b', 's', '_', 'p', 'l', 'a', 's', 't', 'i', 'c', '_', 's', 't', 'r', 'a', 'i', 'n', '_', '2', '1'\",\n",
       " \"'s', 'u', 'b', 's', '_', 'p', 'l', 'a', 's', 't', 'i', 'c', '_', 's', 't', 'r', 'a', 'i', 'n', '_', '2', '2'\",\n",
       " \"'s', 'u', 'b', 's', '_', 'r', 'o', 't', 'a', 't', 'i', 'o', 'n', '_', 't', 'o', 't', 'a', 'l', '_', '0', '0'\",\n",
       " \"'s', 'u', 'b', 's', '_', 'r', 'o', 't', 'a', 't', 'i', 'o', 'n', '_', 't', 'o', 't', 'a', 'l', '_', '0', '1'\",\n",
       " \"'s', 'u', 'b', 's', '_', 'r', 'o', 't', 'a', 't', 'i', 'o', 'n', '_', 't', 'o', 't', 'a', 'l', '_', '0', '2'\",\n",
       " \"'s', 'u', 'b', 's', '_', 'r', 'o', 't', 'a', 't', 'i', 'o', 'n', '_', 't', 'o', 't', 'a', 'l', '_', '1', '0'\",\n",
       " \"'s', 'u', 'b', 's', '_', 'r', 'o', 't', 'a', 't', 'i', 'o', 'n', '_', 't', 'o', 't', 'a', 'l', '_', '1', '1'\",\n",
       " \"'s', 'u', 'b', 's', '_', 'r', 'o', 't', 'a', 't', 'i', 'o', 'n', '_', 't', 'o', 't', 'a', 'l', '_', '1', '2'\",\n",
       " \"'s', 'u', 'b', 's', '_', 'r', 'o', 't', 'a', 't', 'i', 'o', 'n', '_', 't', 'o', 't', 'a', 'l', '_', '2', '0'\",\n",
       " \"'s', 'u', 'b', 's', '_', 'r', 'o', 't', 'a', 't', 'i', 'o', 'n', '_', 't', 'o', 't', 'a', 'l', '_', '2', '1'\",\n",
       " \"'s', 'u', 'b', 's', '_', 'r', 'o', 't', 'a', 't', 'i', 'o', 'n', '_', 't', 'o', 't', 'a', 'l', '_', '2', '2'\",\n",
       " \"'s', 'u', 'b', 's', '_', 's', 't', 'r', 'e', 's', 's', '_', '0', '0'\",\n",
       " \"'s', 'u', 'b', 's', '_', 's', 't', 'r', 'e', 's', 's', '_', '0', '1'\",\n",
       " \"'s', 'u', 'b', 's', '_', 's', 't', 'r', 'e', 's', 's', '_', '0', '2'\",\n",
       " \"'s', 'u', 'b', 's', '_', 's', 't', 'r', 'e', 's', 's', '_', '1', '0'\",\n",
       " \"'s', 'u', 'b', 's', '_', 's', 't', 'r', 'e', 's', 's', '_', '1', '1'\",\n",
       " \"'s', 'u', 'b', 's', '_', 's', 't', 'r', 'e', 's', 's', '_', '1', '2'\",\n",
       " \"'s', 'u', 'b', 's', '_', 's', 't', 'r', 'e', 's', 's', '_', '2', '0'\",\n",
       " \"'s', 'u', 'b', 's', '_', 's', 't', 'r', 'e', 's', 's', '_', '2', '1'\",\n",
       " \"'s', 'u', 'b', 's', '_', 's', 't', 'r', 'e', 's', 's', '_', '2', '2'\",\n",
       " \"'v', 'e', 'l', '_', 'x'\",\n",
       " \"'v', 'e', 'l', '_', 'y'\",\n",
       " \"'v', 'e', 'l', '_', 'z'\"]"
      ]
     },
     "execution_count": 29,
     "metadata": {},
     "output_type": "execute_result"
    }
   ],
   "source": [
    "nodal_names = get_variable(nc)\n",
    "nodal_names"
   ]
  },
  {
   "cell_type": "code",
   "execution_count": 50,
   "metadata": {},
   "outputs": [],
   "source": [
    "#convert each line of nodal names to a string\n",
    "def combine_chars(char_list):\n",
    "    return ''.join(char_list)\n",
    "\n",
    "# print(combine_chars(nodal_names[0]))\n",
    "\n",
    "def convert_string(input_string):\n",
    "    name = str()\n",
    "    char_set = set(string.ascii_letters + string.digits + '_')\n",
    "    for n in range (0,len(input_string)):\n",
    "        if input_string[n] in char_set:\n",
    "            name = name + input_string[n]\n",
    "    return name\n",
    "\n",
    "# input_string = nodal_names[0]\n",
    "\n",
    "# name = str()\n",
    "# for n in range (0,len(input_string)):\n",
    "#     if input_string[n] in char_set:\n",
    "#         name = name + input_string[n]\n",
    "var_names = [None] * len(nodal_names)\n",
    "for p in range (0,len(nodal_names)):\n",
    "    var_names[p] = convert_string(nodal_names[p])"
   ]
  },
  {
   "cell_type": "code",
   "execution_count": 51,
   "metadata": {},
   "outputs": [
    {
     "data": {
      "text/plain": [
       "56"
      ]
     },
     "execution_count": 51,
     "metadata": {},
     "output_type": "execute_result"
    }
   ],
   "source": [
    "# find the variable names subs_stress_00\n",
    "stress_00_idx = np.where(np.array(var_names) == 'subs_stress_00')\n",
    "stress_00_idx = stress_00_idx[0][0]\n",
    "stress_00_idx"
   ]
  },
  {
   "cell_type": "code",
   "execution_count": 52,
   "metadata": {},
   "outputs": [
    {
     "data": {
      "text/plain": [
       "5"
      ]
     },
     "execution_count": 52,
     "metadata": {},
     "output_type": "execute_result"
    }
   ],
   "source": [
    "density_idx = np.where(np.array(var_names) == 'density')\n",
    "density_idx = density_idx[0][0]\n",
    "density_idx"
   ]
  },
  {
   "cell_type": "code",
   "execution_count": 53,
   "metadata": {},
   "outputs": [],
   "source": [
    "vel_x_idx = np.where(np.array(var_names) == 'vel_x')\n",
    "vel_x_idx = vel_x_idx[0][0]\n",
    "vel_y_idx = np.where(np.array(var_names) == 'vel_y')\n",
    "vel_y_idx = vel_y_idx[0][0]\n",
    "vel_z_idx = np.where(np.array(var_names) == 'vel_z')\n",
    "vel_z_idx = vel_z_idx[0][0]"
   ]
  },
  {
   "cell_type": "code",
   "execution_count": 68,
   "metadata": {},
   "outputs": [
    {
     "ename": "IndexError",
     "evalue": "index 0 is out of bounds for axis 0 with size 0",
     "output_type": "error",
     "traceback": [
      "\u001b[0;31m---------------------------------------------------------------------------\u001b[0m",
      "\u001b[0;31mIndexError\u001b[0m                                Traceback (most recent call last)",
      "\u001b[1;32m/Users/langdonfeltner/Library/CloudStorage/Dropbox/CSEE/ParticleSelector/COBRA_ML_NN.ipynb Cell 10\u001b[0m line \u001b[0;36m1\n\u001b[0;32m----> <a href='vscode-notebook-cell:/Users/langdonfeltner/Library/CloudStorage/Dropbox/CSEE/ParticleSelector/COBRA_ML_NN.ipynb#X12sZmlsZQ%3D%3D?line=0'>1</a>\u001b[0m np\u001b[39m.\u001b[39;49mzeros((\u001b[39m0\u001b[39;49m,\u001b[39m3\u001b[39;49m))[\u001b[39m0\u001b[39;49m]\n",
      "\u001b[0;31mIndexError\u001b[0m: index 0 is out of bounds for axis 0 with size 0"
     ]
    }
   ],
   "source": []
  },
  {
   "cell_type": "code",
   "execution_count": 54,
   "metadata": {},
   "outputs": [
    {
     "name": "stderr",
     "output_type": "stream",
     "text": [
      "/var/folders/sv/2rkdh3f9501gm4wslzx7hffw0000gn/T/ipykernel_78236/3292126779.py:34: DeprecationWarning: Conversion of an array with ndim > 0 to a scalar is deprecated, and will error in future. Ensure you extract a single element from your array before performing this operation. (Deprecated NumPy 1.25.)\n",
      "  vals_idx[int(idx[0]), int(idx[1]), int(idx[2])] = vals[n]\n"
     ]
    }
   ],
   "source": [
    "from scipy.interpolate import RegularGridInterpolator\n",
    "connect = nc.variables['connect1']\n",
    "\n",
    "density = np.array(nc.variables['vals_nod_var6'])[-1,:]\n",
    "density = np.array(nc.variables['vals_nod_var6'])[-1,:]\n",
    "\n",
    "density = density[np.flatnonzero(density>0)]\n",
    "# density.shape\n",
    "\n",
    "X, indices = np.unique(np.array(nc.variables['coordx'][0:1000]), return_inverse=True)\n",
    "Y, indices = np.unique(np.array(nc.variables['coordy'][0:1000]), return_inverse=True)\n",
    "Z, indices = np.unique(np.array(nc.variables['coordz'][:]), return_inverse=True)\n",
    "Z = Z[np.flatnonzero(Z <= 1)]\n",
    "\n",
    "vals = np.array(nc.variables['vals_nod_var57'])[-1,0:int(len(X)*len(Y)*len(Z))]\n",
    "\n",
    "x_unsort = np.array(nc.variables['coordx'][0:len(vals)])\n",
    "y_unsort = np.array(nc.variables['coordy'][0:len(vals)])\n",
    "z_unsort = np.array(nc.variables['coordz'][0:len(vals)])\n",
    "\n",
    "xg, yg, zg = np.meshgrid(X, Y, Z)\n",
    "\n",
    "vals = np.array(nc.variables['vals_nod_var57'])[-1,:]\n",
    "##search algorithm\n",
    "searchpoint = np.zeros([3])\n",
    "vals_idx = np.zeros([xg.shape[0], xg.shape[1], xg.shape[2]])\n",
    "for n in range (0,len(x_unsort)):\n",
    "    searchpoint = [x_unsort[n], y_unsort[n], z_unsort[n]]\n",
    "    x_idx = np.where(xg == searchpoint[0],1,0)\n",
    "    y_idx = np.where(yg == searchpoint[1],1,0)\n",
    "    z_idx = np.where(zg == searchpoint[2],1,0)\n",
    "    idx = np.where((x_idx == 1) & (y_idx == 1) & (z_idx == 1))\n",
    "    \n",
    "    vals_idx[int(idx[0]), int(idx[1]), int(idx[2])] = vals[n]\n",
    "\n",
    "x_vals = np.linspace(0.25, 0.75, 20)\n",
    "y_vals = np.linspace(0.25, 0.75, 20)\n",
    "# z_vals = np.linspace(0, 0.9999, 30)\n",
    "z_vals = np.linspace(0, 1, 20)\n",
    "\n",
    "\n",
    "interp_values = RegularGridInterpolator(points = (X, Y, Z), values= vals_idx, method='cubic', bounds_error=False, fill_value=None)\n",
    "\n"
   ]
  },
  {
   "cell_type": "code",
   "execution_count": 87,
   "metadata": {},
   "outputs": [],
   "source": [
    "def build_field(fieldvar, x_vals, y_vals, z_vals):\n",
    "    xg, yg, zg = np.meshgrid(x_vals, y_vals, z_vals)\n",
    "    searchpoint = np.zeros([3])\n",
    "    vals_idx = np.zeros([xg.shape[0], xg.shape[1], xg.shape[2]])\n",
    "    for n in range (0,len(x_unsort)):\n",
    "        searchpoint = [x_vals[n], y_vals[n], z_vals[n]]\n",
    "        x_idx = np.where(xg == searchpoint[0],1,0)\n",
    "        y_idx = np.where(yg == searchpoint[1],1,0)\n",
    "        z_idx = np.where(zg == searchpoint[2],1,0)\n",
    "        idx = np.where((x_idx == 1) & (y_idx == 1) & (z_idx == 1))\n",
    "        \n",
    "        vals_idx[int(idx[0]), int(idx[1]), int(idx[2])] = vals[n]\n",
    "\n",
    "        x_vals = np.linspace(0.25, 0.75, 20)\n",
    "        y_vals = np.linspace(0.25, 0.75, 20)\n",
    "        # z_vals = np.linspace(0, 0.9999, 30)\n",
    "        z_vals = np.linspace(0, 1, 20)\n",
    "\n",
    "        interp_values = RegularGridInterpolator(points = (x_vals, y_vals, z_vals), values= vals_idx, method='cubic', bounds_error=False, fill_value=None)\n",
    "\n",
    "\n",
    "        RVE_x, RVE_y, RVE_z = np.meshgrid(x_vals, y_vals, z_vals, indexing='ij')\n",
    "        RVE_stress_00 = np.zeros(RVE_x.shape)\n",
    "        for i in range(RVE_x.shape[0]):\n",
    "            for j in range(RVE_y.shape[1]):\n",
    "                for k in range(RVE_z.shape[2]):\n",
    "                    # print(RVE_x[i,j,k], RVE_y[i,j,k], RVE_z[i,j,k])\n",
    "                    RVE_stress_00[i,j,k] = interp_values([RVE_x[i,j,k], RVE_y[i,j,k], RVE_z[i,j,k]])\n",
    "    \n",
    "    return RVE_stress_00\n",
    "\n",
    "# ???"
   ]
  },
  {
   "cell_type": "code",
   "execution_count": 13,
   "metadata": {},
   "outputs": [
    {
     "data": {
      "text/plain": [
       "(31, 31, 41)"
      ]
     },
     "execution_count": 13,
     "metadata": {},
     "output_type": "execute_result"
    }
   ],
   "source": [
    "vals_idx.shape"
   ]
  },
  {
   "cell_type": "code",
   "execution_count": 48,
   "metadata": {},
   "outputs": [
    {
     "data": {
      "text/plain": [
       "array([0.    , 0.1   , 0.2   , 0.3   , 0.4   , 0.425 , 0.45  , 0.475 ,\n",
       "       0.5   , 0.525 , 0.55  , 0.575 , 0.6   , 0.625 , 0.65  , 0.675 ,\n",
       "       0.7   , 0.7125, 0.725 , 0.7375, 0.75  , 0.7625, 0.775 , 0.7875,\n",
       "       0.8   , 0.8125, 0.825 , 0.8375, 0.85  , 0.8625, 0.875 , 0.8875,\n",
       "       0.9   , 0.9125, 0.925 , 0.9375, 0.95  , 0.9625, 0.975 , 0.9875,\n",
       "       1.    ])"
      ]
     },
     "execution_count": 48,
     "metadata": {},
     "output_type": "execute_result"
    }
   ],
   "source": [
    "np.average(zg, axis=(0,1))"
   ]
  },
  {
   "cell_type": "code",
   "execution_count": 49,
   "metadata": {},
   "outputs": [
    {
     "data": {
      "text/plain": [
       "array([ -10.6771192 ,  -10.6771192 ,  -17.22072602,  -23.76433283,\n",
       "        -36.32012233,  -48.87591183,  -63.35457343,  -77.83323504,\n",
       "        -94.5308012 , -111.22836737, -130.1420877 , -149.05580803,\n",
       "       -168.44392356, -187.8320391 , -204.09696817, -220.36189725,\n",
       "       -232.61532589, -244.86875454, -254.38214316, -263.89553179,\n",
       "       -273.75548951, -283.61544722, -292.63400985, -301.65257247,\n",
       "       -308.91792788, -316.18328328, -323.53926699, -330.8952507 ,\n",
       "       -340.19194398, -349.48863725, -361.18868278, -372.88872832,\n",
       "       -382.85989483, -392.83106133, -394.46609257, -396.1011238 ,\n",
       "       -390.67239563, -385.24366746, -362.11458352, -338.98549959,\n",
       "       -338.98549959])"
      ]
     },
     "execution_count": 49,
     "metadata": {},
     "output_type": "execute_result"
    }
   ],
   "source": [
    "np.average(vals_idx, axis=(0,1))"
   ]
  },
  {
   "cell_type": "code",
   "execution_count": 55,
   "metadata": {},
   "outputs": [
    {
     "data": {
      "text/plain": [
       "[<matplotlib.lines.Line2D at 0x28b565e70>]"
      ]
     },
     "execution_count": 55,
     "metadata": {},
     "output_type": "execute_result"
    },
    {
     "data": {
      "image/png": "[encoded data removed]",
      "text/plain": [
       "<Figure size 640x480 with 1 Axes>"
      ]
     },
     "metadata": {},
     "output_type": "display_data"
    }
   ],
   "source": [
    "plt.plot(Z,np.average(vals_idx, axis=(0,1)), 'o')"
   ]
  },
  {
   "cell_type": "code",
   "execution_count": 56,
   "metadata": {},
   "outputs": [
    {
     "data": {
      "text/plain": [
       "(39401,)"
      ]
     },
     "execution_count": 56,
     "metadata": {},
     "output_type": "execute_result"
    }
   ],
   "source": [
    "np.array(nc.variables['vals_nod_var57'])[-1,0:int(len(X)*len(Y)*len(Z))].shape"
   ]
  },
  {
   "cell_type": "code",
   "execution_count": 173,
   "metadata": {},
   "outputs": [
    {
     "data": {
      "text/plain": [
       "array([0.        , 0.03448276, 0.06896552, 0.10344828, 0.13793103,\n",
       "       0.17241379, 0.20689655, 0.24137931, 0.27586207, 0.31034483,\n",
       "       0.34482759, 0.37931034, 0.4137931 , 0.44827586, 0.48275862,\n",
       "       0.51724138, 0.55172414, 0.5862069 , 0.62068966, 0.65517241,\n",
       "       0.68965517, 0.72413793, 0.75862069, 0.79310345, 0.82758621,\n",
       "       0.86206897, 0.89655172, 0.93103448, 0.96551724, 1.        ])"
      ]
     },
     "execution_count": 173,
     "metadata": {},
     "output_type": "execute_result"
    }
   ],
   "source": [
    "z_vals"
   ]
  },
  {
   "cell_type": "code",
   "execution_count": 146,
   "metadata": {},
   "outputs": [
    {
     "data": {
      "text/plain": [
       "39401"
      ]
     },
     "execution_count": 146,
     "metadata": {},
     "output_type": "execute_result"
    }
   ],
   "source": [
    "len(z_unsort)"
   ]
  },
  {
   "cell_type": "code",
   "execution_count": 148,
   "metadata": {},
   "outputs": [
    {
     "data": {
      "text/plain": [
       "41478"
      ]
     },
     "execution_count": 148,
     "metadata": {},
     "output_type": "execute_result"
    }
   ],
   "source": [
    "len(vals)"
   ]
  },
  {
   "cell_type": "code",
   "execution_count": 57,
   "metadata": {},
   "outputs": [
    {
     "name": "stderr",
     "output_type": "stream",
     "text": [
      "/var/folders/sv/2rkdh3f9501gm4wslzx7hffw0000gn/T/ipykernel_78236/2576227874.py:7: DeprecationWarning: Conversion of an array with ndim > 0 to a scalar is deprecated, and will error in future. Ensure you extract a single element from your array before performing this operation. (Deprecated NumPy 1.25.)\n",
      "  RVE_stress_00[i,j,k] = interp_values([RVE_x[i,j,k], RVE_y[i,j,k], RVE_z[i,j,k]])\n"
     ]
    }
   ],
   "source": [
    "RVE_x, RVE_y, RVE_z = np.meshgrid(x_vals, y_vals, z_vals, indexing='ij')\n",
    "RVE_stress_00 = np.zeros(RVE_x.shape)\n",
    "for i in range(RVE_x.shape[0]):\n",
    "    for j in range(RVE_y.shape[1]):\n",
    "        for k in range(RVE_z.shape[2]):\n",
    "            # print(RVE_x[i,j,k], RVE_y[i,j,k], RVE_z[i,j,k])\n",
    "            RVE_stress_00[i,j,k] = interp_values([RVE_x[i,j,k], RVE_y[i,j,k], RVE_z[i,j,k]])\n"
   ]
  },
  {
   "cell_type": "code",
   "execution_count": 19,
   "metadata": {},
   "outputs": [
    {
     "name": "stdout",
     "output_type": "stream",
     "text": [
      "17 126 118\n"
     ]
    }
   ],
   "source": [
    "print(i,j,k)"
   ]
  },
  {
   "cell_type": "code",
   "execution_count": 58,
   "metadata": {},
   "outputs": [
    {
     "data": {
      "text/plain": [
       "array([ -10.70613599,   -9.6166743 ,  -10.92656299,  -13.98553433,\n",
       "        -18.14088436,  -22.22343186,  -23.99406888,  -27.43326514,\n",
       "        -46.7521674 ,  -77.10611581, -112.24011845, -152.1020126 ,\n",
       "       -192.28047234, -224.05045943, -262.82843672, -301.36051939,\n",
       "       -331.55898218, -376.25024721, -390.12846114, -337.38853956])"
      ]
     },
     "execution_count": 58,
     "metadata": {},
     "output_type": "execute_result"
    }
   ],
   "source": [
    "np.average(RVE_stress_00, axis=(0,1))"
   ]
  },
  {
   "cell_type": "code",
   "execution_count": 59,
   "metadata": {},
   "outputs": [
    {
     "data": {
      "text/plain": [
       "[<matplotlib.lines.Line2D at 0x28b56baf0>]"
      ]
     },
     "execution_count": 59,
     "metadata": {},
     "output_type": "execute_result"
    },
    {
     "data": {
      "image/png": "[encoded data removed]",
      "text/plain": [
       "<Figure size 640x480 with 1 Axes>"
      ]
     },
     "metadata": {},
     "output_type": "display_data"
    }
   ],
   "source": [
    "plt.plot(z_vals,np.average(RVE_stress_00, axis=(0,1)))"
   ]
  },
  {
   "cell_type": "code",
   "execution_count": 219,
   "metadata": {},
   "outputs": [
    {
     "name": "stderr",
     "output_type": "stream",
     "text": [
      "/var/folders/sv/2rkdh3f9501gm4wslzx7hffw0000gn/T/ipykernel_92305/1482015411.py:75: DeprecationWarning: Conversion of an array with ndim > 0 to a scalar is deprecated, and will error in future. Ensure you extract a single element from your array before performing this operation. (Deprecated NumPy 1.25.)\n",
      "  vals_idx[int(idx[0]), int(idx[1]), int(idx[2])] = vals[n]\n",
      "/var/folders/sv/2rkdh3f9501gm4wslzx7hffw0000gn/T/ipykernel_92305/1482015411.py:100: DeprecationWarning: Conversion of an array with ndim > 0 to a scalar is deprecated, and will error in future. Ensure you extract a single element from your array before performing this operation. (Deprecated NumPy 1.25.)\n",
      "  RVE_stress_00_9[i,j,k] = interp_values([RVE_x[i,j,k], RVE_y[i,j,k], RVE_z[i,j,k]])\n"
     ]
    },
    {
     "data": {
      "text/plain": [
       "[<matplotlib.lines.Line2D at 0x29311c4c0>]"
      ]
     },
     "execution_count": 219,
     "metadata": {},
     "output_type": "execute_result"
    },
    {
     "data": {
      "image/png": "[encoded data removed]",
      "text/plain": [
       "<Figure size 640x480 with 1 Axes>"
      ]
     },
     "metadata": {},
     "output_type": "display_data"
    }
   ],
   "source": [
    "nc = netCDF4.Dataset('exhmdkksts_9_out2.e')\n",
    "\n",
    "\n",
    "nodal_names = get_variable(nc)\n",
    "nodal_names\n",
    "#convert each line of nodal names to a string\n",
    "def combine_chars(char_list):\n",
    "    return ''.join(char_list)\n",
    "\n",
    "# print(combine_chars(nodal_names[0]))\n",
    "\n",
    "def convert_string(input_string):\n",
    "    name = str()\n",
    "    char_set = set(string.ascii_letters + string.digits + '_')\n",
    "    for n in range (0,len(input_string)):\n",
    "        if input_string[n] in char_set:\n",
    "            name = name + input_string[n]\n",
    "    return name\n",
    "\n",
    "# input_string = nodal_names[0]\n",
    "\n",
    "# name = str()\n",
    "# for n in range (0,len(input_string)):\n",
    "#     if input_string[n] in char_set:\n",
    "#         name = name + input_string[n]\n",
    "var_names = [None] * len(nodal_names)\n",
    "for p in range (0,len(nodal_names)):\n",
    "    var_names[p] = convert_string(nodal_names[p])\n",
    "# find the variable names subs_stress_00\n",
    "stress_00_idx = np.where(np.array(var_names) == 'subs_stress_00')\n",
    "stress_00_idx = stress_00_idx[0][0]\n",
    "density_idx = np.where(np.array(var_names) == 'density')\n",
    "density_idx = density_idx[0][0]\n",
    "density_idx\n",
    "vel_x_idx = np.where(np.array(var_names) == 'vel_x')\n",
    "vel_x_idx = vel_x_idx[0][0]\n",
    "vel_y_idx = np.where(np.array(var_names) == 'vel_y')\n",
    "vel_y_idx = vel_y_idx[0][0]\n",
    "vel_z_idx = np.where(np.array(var_names) == 'vel_z')\n",
    "vel_z_idx = vel_z_idx[0][0]\n",
    "density = np.array(nc.variables['vals_nod_var6'])[-1,:]\n",
    "\n",
    "density = density[np.flatnonzero(density>0)]\n",
    "# density.shape\n",
    "from scipy.interpolate import RegularGridInterpolator\n",
    "connect = nc.variables['connect1']\n",
    "\n",
    "density = np.array(nc.variables['vals_nod_var6'])[-1,:]\n",
    "\n",
    "\n",
    "X, indices = np.unique(np.array(nc.variables['coordx'][0:1000]), return_inverse=True)\n",
    "Y, indices = np.unique(np.array(nc.variables['coordy'][0:1000]), return_inverse=True)\n",
    "Z, indices = np.unique(np.array(nc.variables['coordz'][:]), return_inverse=True)\n",
    "Z = Z[np.flatnonzero(Z <= 1)]\n",
    "\n",
    "vals = np.array(nc.variables['vals_nod_var57'])[-1,0:int(len(X)*len(Y)*len(Z))]\n",
    "\n",
    "x_unsort = np.array(nc.variables['coordx'][0:len(vals)])\n",
    "y_unsort = np.array(nc.variables['coordy'][0:len(vals)])\n",
    "z_unsort = np.array(nc.variables['coordz'][0:len(vals)])\n",
    "\n",
    "xg, yg, zg = np.meshgrid(X, Y, Z)\n",
    "\n",
    "vals = np.array(nc.variables['vals_nod_var57'])[-1,:]\n",
    "##search algorithm\n",
    "searchpoint = np.zeros([3])\n",
    "vals_idx = np.zeros([xg.shape[0], xg.shape[1], xg.shape[2]])\n",
    "for n in range (0,len(x_unsort)):\n",
    "    searchpoint = [x_unsort[n], y_unsort[n], z_unsort[n]]\n",
    "    x_idx = np.where(xg == searchpoint[0],1,0)\n",
    "    y_idx = np.where(yg == searchpoint[1],1,0)\n",
    "    z_idx = np.where(zg == searchpoint[2],1,0)\n",
    "    idx = np.where((x_idx == 1) & (y_idx == 1) & (z_idx == 1))\n",
    "    \n",
    "    vals_idx[int(idx[0]), int(idx[1]), int(idx[2])] = vals[n]\n",
    "\n",
    "x_vals = np.linspace(0.25, 0.75, 30)\n",
    "y_vals = np.linspace(0.25, 0.75, 30)\n",
    "# z_vals = np.linspace(0, 0.9999, 30)\n",
    "z_vals = np.linspace(0, 1, 30)\n",
    "\n",
    "interp_values = RegularGridInterpolator(points = (X, Y, Z), values= vals_idx, method='cubic', bounds_error=False, fill_value=None)\n",
    "\n",
    "\n",
    "vals_idx.shape\n",
    "np.average(zg, axis=(0,1))\n",
    "np.average(vals_idx, axis=(0,1))\n",
    "# plt.plot(Z,np.average(vals_idx, axis=(0,1)))\n",
    "np.array(nc.variables['vals_nod_var57'])[-1,0:int(len(X)*len(Y)*len(Z))].shape\n",
    "# z_vals\n",
    "# len(z_unsort)\n",
    "# len(vals)\n",
    "# plt.plot(nc.variables['coordx'][0:int(vals.shape[0])])\n",
    "RVE_x, RVE_y, RVE_z = np.meshgrid(x_vals, y_vals, z_vals, indexing='ij')\n",
    "RVE_stress_00_9 = np.zeros(RVE_x.shape)\n",
    "for i in range(RVE_x.shape[0]):\n",
    "    for j in range(RVE_y.shape[1]):\n",
    "        for k in range(RVE_z.shape[2]):\n",
    "            # print(RVE_x[i,j,k], RVE_y[i,j,k], RVE_z[i,j,k])\n",
    "            RVE_stress_00_9[i,j,k] = interp_values([RVE_x[i,j,k], RVE_y[i,j,k], RVE_z[i,j,k]])\n",
    "\n",
    "# plt.plot(RVE_stress_00.flatten())\n",
    "plt.plot(z_vals,np.average(RVE_stress_00_9, axis=(0,1)))"
   ]
  },
  {
   "cell_type": "code",
   "execution_count": 229,
   "metadata": {},
   "outputs": [
    {
     "data": {
      "text/plain": [
       "[<matplotlib.lines.Line2D at 0x2931579d0>]"
      ]
     },
     "execution_count": 229,
     "metadata": {},
     "output_type": "execute_result"
    },
    {
     "data": {
      "image/png": "[encoded data removed]",
      "text/plain": [
       "<Figure size 640x480 with 1 Axes>"
      ]
     },
     "metadata": {},
     "output_type": "display_data"
    }
   ],
   "source": [
    "plt.plot(z_vals,np.average(RVE_stress_00, axis=(0,1)))\n",
    "plt.plot(z_vals,np.average(RVE_stress_00_9, axis=(0,1)))"
   ]
  },
  {
   "cell_type": "code",
   "execution_count": 74,
   "metadata": {},
   "outputs": [
    {
     "name": "stdout",
     "output_type": "stream",
     "text": [
      "['testset/kyriibccxe_3_out2.e', 'testset/kyriibccxe_1_out2.e', 'testset/kyriibccxe_5_out2.e', 'testset/kyriibccxe_2_out2.e', 'testset/kyriibccxe_0_out2.e', 'testset/kyriibccxe_4_out2.e', 'testset/kyriibccxe_6_out2.e']\n"
     ]
    }
   ],
   "source": [
    "import glob\n",
    "import os\n",
    "filelist = glob.glob(\"testset/*.e\")\n"
   ]
  },
  {
   "cell_type": "code",
   "execution_count": 83,
   "metadata": {},
   "outputs": [],
   "source": [
    "nc = netCDF4.Dataset(filelist[0])\n",
    "nodal_names = get_variable(nc)\n",
    "var_names = [None] * len(nodal_names)\n",
    "for p in range (0,len(nodal_names)):\n",
    "    var_names[p] = convert_string(nodal_names[p])\n",
    "\n",
    "addensity_idx = np.where(np.array(var_names) == 'ADdensity')\n",
    "addensity_idx= addensity_idx[0][0]\n",
    "vel_x_idx = np.where(np.array(var_names) == 'vel_x')\n",
    "vel_x_idx = vel_x_idx[0][0]\n",
    "vel_y_idx = np.where(np.array(var_names) == 'vel_y')\n",
    "vel_y_idx = vel_y_idx[0][0]\n",
    "vel_z_idx = np.where(np.array(var_names) == 'vel_z')\n",
    "vel_z_idx = vel_z_idx[0][0]\n",
    "\n",
    "shotdensity = np.array(nc.variables['vals_nod_var{}'.format(int(addensity_idx+1))])[-1,:]\n",
    "shotdensity_fixed = shotdensity[np.flatnonzero(shotdensity>0)]\n",
    "\n",
    "X_shot, indices = np.unique(np.array(nc.variables['coordx'][np.flatnonzero(shotdensity>0)]), return_inverse=True)\n",
    "Y_shot, indices = np.unique(np.array(nc.variables['coordy'][np.flatnonzero(shotdensity>0)]), return_inverse=True)\n",
    "Z_shot, indices = np.unique(np.array(nc.variables['coordz'][np.flatnonzero(shotdensity>0)]), return_inverse=True)"
   ]
  },
  {
   "cell_type": "code",
   "execution_count": 84,
   "metadata": {},
   "outputs": [
    {
     "name": "stdout",
     "output_type": "stream",
     "text": [
      "(306,) (308,) (145,)\n"
     ]
    }
   ],
   "source": [
    "print(X_shot.shape, Y_shot.shape, Z_shot.shape)"
   ]
  },
  {
   "cell_type": "code",
   "execution_count": null,
   "metadata": {},
   "outputs": [],
   "source": [
    "for t in range (0,len(filelist)):\n",
    "    nc = netCDF4.Dataset(filelist[t])\n",
    "\n",
    "\n",
    "    nodal_names = get_variable(nc)\n",
    "    nodal_names\n",
    "    #convert each line of nodal names to a string\n",
    "    def combine_chars(char_list):\n",
    "        return ''.join(char_list)\n",
    "\n",
    "    # print(combine_chars(nodal_names[0]))\n",
    "\n",
    "    def convert_string(input_string):\n",
    "        name = str()\n",
    "        char_set = set(string.ascii_letters + string.digits + '_')\n",
    "        for n in range (0,len(input_string)):\n",
    "            if input_string[n] in char_set:\n",
    "                name = name + input_string[n]\n",
    "        return name\n",
    "\n",
    "    # input_string = nodal_names[0]\n",
    "\n",
    "    # name = str()\n",
    "    # for n in range (0,len(input_string)):\n",
    "    #     if input_string[n] in char_set:\n",
    "    #         name = name + input_string[n]\n",
    "    var_names = [None] * len(nodal_names)\n",
    "    for p in range (0,len(nodal_names)):\n",
    "        var_names[p] = convert_string(nodal_names[p])\n",
    "    # find the variable names subs_stress_00\n",
    "    stress_00_idx = np.where(np.array(var_names) == 'subs_stress_00')\n",
    "    stress_00_idx = stress_00_idx[0][0]\n",
    "    density_idx = np.where(np.array(var_names) == 'density')\n",
    "    density_idx = density_idx[0][0]\n",
    "    density_idx\n",
    "    vel_x_idx = np.where(np.array(var_names) == 'vel_x')\n",
    "    vel_x_idx = vel_x_idx[0][0]\n",
    "    vel_y_idx = np.where(np.array(var_names) == 'vel_y')\n",
    "    vel_y_idx = vel_y_idx[0][0]\n",
    "    vel_z_idx = np.where(np.array(var_names) == 'vel_z')\n",
    "    vel_z_idx = vel_z_idx[0][0]\n",
    "    density = np.array(nc.variables['vals_nod_var6'])[-1,:]\n",
    "\n",
    "    density = density[np.flatnonzero(density>0)]\n",
    "    # density.shape\n",
    "    from scipy.interpolate import RegularGridInterpolator\n",
    "    connect = nc.variables['connect1']\n",
    "\n",
    "    density = np.array(nc.variables['vals_nod_var6'])[-1,:]\n",
    "\n",
    "\n",
    "    X, indices = np.unique(np.array(nc.variables['coordx'][0:1000]), return_inverse=True)\n",
    "    Y, indices = np.unique(np.array(nc.variables['coordy'][0:1000]), return_inverse=True)\n",
    "    Z, indices = np.unique(np.array(nc.variables['coordz'][:]), return_inverse=True)\n",
    "    Z = Z[np.flatnonzero(Z <= 1)]\n",
    "\n",
    "    vals = np.array(nc.variables['vals_nod_var57'])[-1,0:int(len(X)*len(Y)*len(Z))]\n",
    "\n",
    "    x_unsort = np.array(nc.variables['coordx'][0:len(vals)])\n",
    "    y_unsort = np.array(nc.variables['coordy'][0:len(vals)])\n",
    "    z_unsort = np.array(nc.variables['coordz'][0:len(vals)])\n",
    "\n",
    "    xg, yg, zg = np.meshgrid(X, Y, Z)\n",
    "\n",
    "    vals = np.array(nc.variables['vals_nod_var57'])[-1,:]\n",
    "    ##search algorithm\n",
    "    searchpoint = np.zeros([3])\n",
    "    vals_idx = np.zeros([xg.shape[0], xg.shape[1], xg.shape[2]])\n",
    "    for n in range (0,len(x_unsort)):\n",
    "        searchpoint = [x_unsort[n], y_unsort[n], z_unsort[n]]\n",
    "        x_idx = np.where(xg == searchpoint[0],1,0)\n",
    "        y_idx = np.where(yg == searchpoint[1],1,0)\n",
    "        z_idx = np.where(zg == searchpoint[2],1,0)\n",
    "        idx = np.where((x_idx == 1) & (y_idx == 1) & (z_idx == 1))\n",
    "        \n",
    "        vals_idx[int(idx[0]), int(idx[1]), int(idx[2])] = vals[n]\n",
    "\n",
    "    x_vals = np.linspace(0.25, 0.75, 30)\n",
    "    y_vals = np.linspace(0.25, 0.75, 30)\n",
    "    # z_vals = np.linspace(0, 0.9999, 30)\n",
    "    z_vals = np.linspace(0, 1, 30)\n",
    "\n",
    "    interp_values = RegularGridInterpolator(points = (X, Y, Z), values= vals_idx, method='cubic', bounds_error=False, fill_value=None)\n",
    "\n",
    "\n",
    "    vals_idx.shape\n",
    "    np.average(zg, axis=(0,1))\n",
    "    np.average(vals_idx, axis=(0,1))\n",
    "    # plt.plot(Z,np.average(vals_idx, axis=(0,1)))\n",
    "    np.array(nc.variables['vals_nod_var57'])[-1,0:int(len(X)*len(Y)*len(Z))].shape\n",
    "    # z_vals\n",
    "    # len(z_unsort)\n",
    "    # len(vals)\n",
    "    # plt.plot(nc.variables['coordx'][0:int(vals.shape[0])])\n",
    "    RVE_x, RVE_y, RVE_z = np.meshgrid(x_vals, y_vals, z_vals, indexing='ij')\n",
    "    RVE_stress_00_9 = np.zeros(RVE_x.shape)\n",
    "    for i in range(RVE_x.shape[0]):\n",
    "        for j in range(RVE_y.shape[1]):\n",
    "            for k in range(RVE_z.shape[2]):\n",
    "                # print(RVE_x[i,j,k], RVE_y[i,j,k], RVE_z[i,j,k])\n",
    "                RVE_stress_00_9[i,j,k] = interp_values([RVE_x[i,j,k], RVE_y[i,j,k], RVE_z[i,j,k]])\n",
    "\n",
    "    # plt.plot(RVE_stress_00.flatten())\n",
    "    plt.plot(z_vals,np.average(RVE_stress_00_9, axis=(0,1)))"
   ]
  }
 ],
 "metadata": {
  "kernelspec": {
   "display_name": "Python 3",
   "language": "python",
   "name": "python3"
  },
  "language_info": {
   "codemirror_mode": {
    "name": "ipython",
    "version": 3
   },
   "file_extension": ".py",
   "mimetype": "text/x-python",
   "name": "python",
   "nbconvert_exporter": "python",
   "pygments_lexer": "ipython3",
   "version": "3.10.13"
  }
 },
 "nbformat": 4,
 "nbformat_minor": 2
}
